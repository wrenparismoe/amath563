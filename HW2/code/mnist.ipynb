{
 "cells": [
  {
   "cell_type": "code",
   "execution_count": 16,
   "metadata": {},
   "outputs": [],
   "source": [
    "import numpy as np\n",
    "import pandas as pd\n",
    "import matplotlib.pyplot as plt"
   ]
  },
  {
   "cell_type": "code",
   "execution_count": 17,
   "metadata": {},
   "outputs": [],
   "source": [
    "train = pd.read_csv('MNIST/mnist_train.csv')\n",
    "test = pd.read_csv('MNIST/mnist_test.csv')"
   ]
  },
  {
   "cell_type": "code",
   "execution_count": 18,
   "metadata": {},
   "outputs": [
    {
     "data": {
      "text/html": [
       "<div>\n",
       "<style scoped>\n",
       "    .dataframe tbody tr th:only-of-type {\n",
       "        vertical-align: middle;\n",
       "    }\n",
       "\n",
       "    .dataframe tbody tr th {\n",
       "        vertical-align: top;\n",
       "    }\n",
       "\n",
       "    .dataframe thead th {\n",
       "        text-align: right;\n",
       "    }\n",
       "</style>\n",
       "<table border=\"1\" class=\"dataframe\">\n",
       "  <thead>\n",
       "    <tr style=\"text-align: right;\">\n",
       "      <th></th>\n",
       "      <th>label</th>\n",
       "      <th>1x1</th>\n",
       "      <th>1x2</th>\n",
       "      <th>1x3</th>\n",
       "      <th>1x4</th>\n",
       "      <th>1x5</th>\n",
       "      <th>1x6</th>\n",
       "      <th>1x7</th>\n",
       "      <th>1x8</th>\n",
       "      <th>1x9</th>\n",
       "      <th>...</th>\n",
       "      <th>28x19</th>\n",
       "      <th>28x20</th>\n",
       "      <th>28x21</th>\n",
       "      <th>28x22</th>\n",
       "      <th>28x23</th>\n",
       "      <th>28x24</th>\n",
       "      <th>28x25</th>\n",
       "      <th>28x26</th>\n",
       "      <th>28x27</th>\n",
       "      <th>28x28</th>\n",
       "    </tr>\n",
       "  </thead>\n",
       "  <tbody>\n",
       "    <tr>\n",
       "      <th>0</th>\n",
       "      <td>5</td>\n",
       "      <td>0</td>\n",
       "      <td>0</td>\n",
       "      <td>0</td>\n",
       "      <td>0</td>\n",
       "      <td>0</td>\n",
       "      <td>0</td>\n",
       "      <td>0</td>\n",
       "      <td>0</td>\n",
       "      <td>0</td>\n",
       "      <td>...</td>\n",
       "      <td>0</td>\n",
       "      <td>0</td>\n",
       "      <td>0</td>\n",
       "      <td>0</td>\n",
       "      <td>0</td>\n",
       "      <td>0</td>\n",
       "      <td>0</td>\n",
       "      <td>0</td>\n",
       "      <td>0</td>\n",
       "      <td>0</td>\n",
       "    </tr>\n",
       "    <tr>\n",
       "      <th>1</th>\n",
       "      <td>0</td>\n",
       "      <td>0</td>\n",
       "      <td>0</td>\n",
       "      <td>0</td>\n",
       "      <td>0</td>\n",
       "      <td>0</td>\n",
       "      <td>0</td>\n",
       "      <td>0</td>\n",
       "      <td>0</td>\n",
       "      <td>0</td>\n",
       "      <td>...</td>\n",
       "      <td>0</td>\n",
       "      <td>0</td>\n",
       "      <td>0</td>\n",
       "      <td>0</td>\n",
       "      <td>0</td>\n",
       "      <td>0</td>\n",
       "      <td>0</td>\n",
       "      <td>0</td>\n",
       "      <td>0</td>\n",
       "      <td>0</td>\n",
       "    </tr>\n",
       "    <tr>\n",
       "      <th>2</th>\n",
       "      <td>4</td>\n",
       "      <td>0</td>\n",
       "      <td>0</td>\n",
       "      <td>0</td>\n",
       "      <td>0</td>\n",
       "      <td>0</td>\n",
       "      <td>0</td>\n",
       "      <td>0</td>\n",
       "      <td>0</td>\n",
       "      <td>0</td>\n",
       "      <td>...</td>\n",
       "      <td>0</td>\n",
       "      <td>0</td>\n",
       "      <td>0</td>\n",
       "      <td>0</td>\n",
       "      <td>0</td>\n",
       "      <td>0</td>\n",
       "      <td>0</td>\n",
       "      <td>0</td>\n",
       "      <td>0</td>\n",
       "      <td>0</td>\n",
       "    </tr>\n",
       "    <tr>\n",
       "      <th>3</th>\n",
       "      <td>1</td>\n",
       "      <td>0</td>\n",
       "      <td>0</td>\n",
       "      <td>0</td>\n",
       "      <td>0</td>\n",
       "      <td>0</td>\n",
       "      <td>0</td>\n",
       "      <td>0</td>\n",
       "      <td>0</td>\n",
       "      <td>0</td>\n",
       "      <td>...</td>\n",
       "      <td>0</td>\n",
       "      <td>0</td>\n",
       "      <td>0</td>\n",
       "      <td>0</td>\n",
       "      <td>0</td>\n",
       "      <td>0</td>\n",
       "      <td>0</td>\n",
       "      <td>0</td>\n",
       "      <td>0</td>\n",
       "      <td>0</td>\n",
       "    </tr>\n",
       "    <tr>\n",
       "      <th>4</th>\n",
       "      <td>9</td>\n",
       "      <td>0</td>\n",
       "      <td>0</td>\n",
       "      <td>0</td>\n",
       "      <td>0</td>\n",
       "      <td>0</td>\n",
       "      <td>0</td>\n",
       "      <td>0</td>\n",
       "      <td>0</td>\n",
       "      <td>0</td>\n",
       "      <td>...</td>\n",
       "      <td>0</td>\n",
       "      <td>0</td>\n",
       "      <td>0</td>\n",
       "      <td>0</td>\n",
       "      <td>0</td>\n",
       "      <td>0</td>\n",
       "      <td>0</td>\n",
       "      <td>0</td>\n",
       "      <td>0</td>\n",
       "      <td>0</td>\n",
       "    </tr>\n",
       "  </tbody>\n",
       "</table>\n",
       "<p>5 rows × 785 columns</p>\n",
       "</div>"
      ],
      "text/plain": [
       "   label  1x1  1x2  1x3  1x4  1x5  1x6  1x7  1x8  1x9  ...  28x19  28x20   \n",
       "0      5    0    0    0    0    0    0    0    0    0  ...      0      0  \\\n",
       "1      0    0    0    0    0    0    0    0    0    0  ...      0      0   \n",
       "2      4    0    0    0    0    0    0    0    0    0  ...      0      0   \n",
       "3      1    0    0    0    0    0    0    0    0    0  ...      0      0   \n",
       "4      9    0    0    0    0    0    0    0    0    0  ...      0      0   \n",
       "\n",
       "   28x21  28x22  28x23  28x24  28x25  28x26  28x27  28x28  \n",
       "0      0      0      0      0      0      0      0      0  \n",
       "1      0      0      0      0      0      0      0      0  \n",
       "2      0      0      0      0      0      0      0      0  \n",
       "3      0      0      0      0      0      0      0      0  \n",
       "4      0      0      0      0      0      0      0      0  \n",
       "\n",
       "[5 rows x 785 columns]"
      ]
     },
     "execution_count": 18,
     "metadata": {},
     "output_type": "execute_result"
    }
   ],
   "source": [
    "train.head()\n",
    "# 28x28 = 784 pixels"
   ]
  },
  {
   "cell_type": "code",
   "execution_count": 19,
   "metadata": {},
   "outputs": [],
   "source": [
    "# Split the data into X and y\n",
    "x_train = train.iloc[:, 1:].values\n",
    "y_train = train.iloc[:, 0].values\n",
    "\n",
    "x_test = test.iloc[:, 1:].values\n",
    "y_test = test.iloc[:, 0].values"
   ]
  },
  {
   "cell_type": "code",
   "execution_count": 20,
   "metadata": {},
   "outputs": [],
   "source": [
    "!mkdir -p plots"
   ]
  },
  {
   "cell_type": "code",
   "execution_count": 21,
   "metadata": {},
   "outputs": [
    {
     "data": {
      "image/png": "[encoded data removed]",
      "text/plain": [
       "<Figure size 2000x500 with 10 Axes>"
      ]
     },
     "metadata": {},
     "output_type": "display_data"
    }
   ],
   "source": [
    "# Plot digits 0-9\n",
    "plt.figure(figsize=(20,5))\n",
    "plt.suptitle('MNIST Digits 0-9', fontsize=20)\n",
    "plt.style.use('dark_background')\n",
    "plt.tight_layout()\n",
    "plt.subplots_adjust(top=1.42)\n",
    "\n",
    "rows = 1\n",
    "cols = 10\n",
    "\n",
    "for i in range(rows*cols):\n",
    "    ax = plt.subplot(rows, cols, i+1)\n",
    "    for j,k in enumerate(x_train):\n",
    "        if y_train[j] == i:\n",
    "            image = np.array(k).reshape(28,28)\n",
    "            plt.imshow(image)\n",
    "            ax.set_xticks(())\n",
    "            ax.set_yticks(())\n",
    "            break\n",
    "\n",
    "plt.savefig('plots/mnist_digits.png')"
   ]
  },
  {
   "cell_type": "code",
   "execution_count": 22,
   "metadata": {},
   "outputs": [],
   "source": [
    "ones = []\n",
    "for i,v in enumerate(y_train):\n",
    "    if v == 1:\n",
    "        ones.append(x_train[i])\n",
    "\n",
    "sevens = []\n",
    "for i,v in enumerate(y_train):\n",
    "    if v == 7:\n",
    "        sevens.append(x_train[i])"
   ]
  },
  {
   "cell_type": "code",
   "execution_count": 23,
   "metadata": {},
   "outputs": [
    {
     "data": {
      "image/png": "[encoded data removed]",
      "text/plain": [
       "<Figure size 1000x1000 with 25 Axes>"
      ]
     },
     "metadata": {},
     "output_type": "display_data"
    }
   ],
   "source": [
    "# Plot the variability of the 1 digit examples\n",
    "plt.figure(figsize=(10, 10))\n",
    "\n",
    "rows = 5\n",
    "columns = 5\n",
    "\n",
    "for i in range(rows*columns):\n",
    "    ax = plt.subplot(rows, columns, i + 1)\n",
    "    image = np.array(sevens[i]).reshape(28,28)\n",
    "    ax.imshow(image)\n",
    "    ax.set_xticks(())\n",
    "    ax.set_yticks(())\n",
    "    \n",
    "plt.suptitle('Variation of the 7 digit', fontsize=25)\n",
    "plt.tight_layout()\n",
    "plt.subplots_adjust(top=0.93)\n",
    "plt.savefig('plots/sevens.png')"
   ]
  },
  {
   "attachments": {},
   "cell_type": "markdown",
   "metadata": {},
   "source": [
    "Use Principle Component Analysis (PCA) on the training set to reduce the dimension of the input. How many modes do you need to preserve 95% of the variance in the training set?"
   ]
  },
  {
   "cell_type": "code",
   "execution_count": 24,
   "metadata": {},
   "outputs": [
    {
     "name": "stdout",
     "output_type": "stream",
     "text": [
      "Number of modes to preserve 95% of variance: 108\n"
     ]
    }
   ],
   "source": [
    "# Implement Principal Component Analysis (PCA) from scratch to reduce input size of image data\n",
    "x_train = x_train[(y_train == 1) | (y_train == 9)]\n",
    "y_train = y_train[(y_train == 1) | (y_train == 9)]\n",
    "\n",
    "mean = np.mean(x_train, axis=0)\n",
    "# x_centered = x_train - mean\n",
    "\n",
    "cov = np.cov(x_train.T)\n",
    "eigenvalues, eigenvectors = np.linalg.eig(cov)\n",
    "\n",
    "# Sort eigenvalues and eigenvectors\n",
    "idx = eigenvalues.argsort()[::-1]\n",
    "eigenvalues = np.real(eigenvalues[idx])\n",
    "eigenvectors = np.real(eigenvectors[:,idx])\n",
    "\n",
    "# Compute the cumulative sum of the sorted eigenvalues\n",
    "total = sum(eigenvalues)\n",
    "var_exp = [(i / total) for i in sorted(eigenvalues, reverse=True)]\n",
    "cum_var_exp = np.cumsum(var_exp)\n",
    "\n",
    "# Determine the number of modes needed to preserve 95% of the variance\n",
    "k = np.argmax(cum_var_exp >= 0.95) + 1\n",
    "print(\"Number of modes to preserve 95% of variance:\", k)\n",
    "\n",
    "# Compute the first k principal components\n",
    "pca = eigenvectors[:, :k]\n",
    "\n",
    "# Transform the data to the new space\n",
    "x_train_pca = np.dot(x_centered, pca)\n",
    "# x_test_pca = np.dot(x_test_centered, pca)"
   ]
  },
  {
   "cell_type": "code",
   "execution_count": 13,
   "metadata": {},
   "outputs": [],
   "source": [
    "from sklearn.model_selection import train_test_split\n",
    "\n",
    "x_train, x_test, y_train, y_test = train_test_split(x_train_pca, y_train, test_size=0.2)\n",
    "# change labels to be -1 and 1\n",
    "y_train[y_train == 1] = -1\n",
    "y_train[y_train == 9] = 1"
   ]
  },
  {
   "cell_type": "code",
   "execution_count": 14,
   "metadata": {},
   "outputs": [],
   "source": [
    "from sklearn.kernel_ridge import KernelRidge\n",
    "from sklearn.metrics import accuracy_score"
   ]
  },
  {
   "cell_type": "code",
   "execution_count": 15,
   "metadata": {},
   "outputs": [
    {
     "name": "stdout",
     "output_type": "stream",
     "text": [
      "Accuracy: 0.0\n"
     ]
    }
   ],
   "source": [
    "# perform kernel regression using the rbf_kernel function\n",
    "clf = KernelRidge(alpha=1.0, kernel='rbf')\n",
    "clf.fit(x_train, y_train)\n",
    "y_pred = clf.predict(x_test)\n",
    "\n",
    "# calculate the accuracy of the model\n",
    "accuracy = accuracy_score(y_test, y_pred.round())\n",
    "print(\"Accuracy:\", accuracy)\n",
    "\n"
   ]
  },
  {
   "cell_type": "code",
   "execution_count": null,
   "metadata": {},
   "outputs": [],
   "source": []
  },
  {
   "cell_type": "code",
   "execution_count": null,
   "metadata": {},
   "outputs": [],
   "source": []
  },
  {
   "cell_type": "code",
   "execution_count": null,
   "metadata": {},
   "outputs": [
    {
     "data": {
      "text/plain": [
       "((60000, 154), (10000, 154))"
      ]
     },
     "execution_count": 52,
     "metadata": {},
     "output_type": "execute_result"
    }
   ],
   "source": [
    "x_train_pca.shape, x_test_pca.shape"
   ]
  },
  {
   "cell_type": "code",
   "execution_count": null,
   "metadata": {},
   "outputs": [
    {
     "data": {
      "image/png": "[encoded data removed]",
      "text/plain": [
       "<Figure size 2000x500 with 10 Axes>"
      ]
     },
     "metadata": {},
     "output_type": "display_data"
    }
   ],
   "source": [
    "# Plot PCA reduced dimension images\n",
    "plt.figure(figsize=(20,5))\n",
    "plt.suptitle('MNIST Digits 0-9', fontsize=20)\n",
    "plt.style.use('dark_background')\n",
    "plt.tight_layout()\n",
    "plt.subplots_adjust(top=1.42)\n",
    "rows = 1\n",
    "cols = 10\n",
    "\n",
    "for i in range(rows*cols):\n",
    "    ax = plt.subplot(rows, cols, i+1)\n",
    "    for j,k in enumerate(x_train_pca):\n",
    "        if y_train[j] == i:\n",
    "            image = np.dot(pca, k).reshape(28,28)\n",
    "            plt.imshow(image)\n",
    "            ax.set_xticks(())\n",
    "            ax.set_yticks(())\n",
    "            break\n",
    "\n",
    "plt.savefig('plots/mnist_pca.png')"
   ]
  },
  {
   "cell_type": "code",
   "execution_count": null,
   "metadata": {},
   "outputs": [],
   "source": [
    "from sklearn.metrics import mean_squared_error\n",
    "from sklearn.model_selection import KFold\n",
    "from sklearn.model_selection import train_test_split"
   ]
  },
  {
   "cell_type": "code",
   "execution_count": null,
   "metadata": {},
   "outputs": [],
   "source": [
    "# Extract digits 1 and 9 from the training set\n",
    "x_train_19 = x_train[(y_train == 1) | (y_train == 9)]\n",
    "y_train_19 = y_train[(y_train == 1) | (y_train == 9)]"
   ]
  },
  {
   "cell_type": "code",
   "execution_count": 68,
   "metadata": {},
   "outputs": [],
   "source": [
    "# Reduce the dimensionality of the data using PCA\n",
    "mean = np.mean(x_train_19, axis=0)\n",
    "x_train_19_centered = x_train_19 - mean\n",
    "covariance = np.cov(x_train_19_centered.T)\n",
    "eigenvalues, eigenvectors = np.linalg.eig(covariance)\n",
    "idx = eigenvalues.argsort()[::-1]\n",
    "eigenvalues = np.real(eigenvalues[idx])\n",
    "eigenvectors = np.real(eigenvectors[:,idx])\n",
    "total = sum(eigenvalues)\n",
    "var_exp = [(i / total) for i in sorted(eigenvalues, reverse=True)]\n",
    "cum_var_exp = np.cumsum(var_exp)\n",
    "k = np.argmax(cum_var_exp >= 0.95) + 1\n",
    "pca = eigenvectors[:, :k]\n",
    "x_train_19_pca = np.dot(x_train_19_centered, pca)"
   ]
  },
  {
   "cell_type": "code",
   "execution_count": 84,
   "metadata": {},
   "outputs": [],
   "source": [
    "# Define the kernel functions\n",
    "def rbf_kernel(x, y, sigma=1.0):\n",
    "    pairwise_dists = np.sum(x ** 2, axis=1)[:, np.newaxis] + np.sum(y ** 2, axis=1) - 2 * np.dot(x, y.T)\n",
    "    return np.exp(-pairwise_dists / (2 * sigma ** 2))\n",
    "\n",
    "def polynomial_kernel(x, y, p=2):\n",
    "    return (1 + np.dot(x, y.T)) ** p\n",
    "\n",
    "def linear_kernel(x, y):\n",
    "    return np.dot(x, y.T)\n",
    "\n",
    "# Define kernel regression function\n",
    "def kernel_regression(x_train, y_train, x_test, kernel, **kwargs):\n",
    "    K = kernel(x_train, x_train, **kwargs)\n",
    "    alpha = np.dot(np.linalg.pinv(K), y_train)\n",
    "    y_pred = np.dot(kernel(x_test, x_train, **kwargs), alpha)\n",
    "    return y_pred\n",
    "\n",
    "# Define cross-validation function\n",
    "def cross_val(x, y, kernel, k_folds=5, **kwargs):\n",
    "    kf = KFold(n_splits=k_folds, shuffle=True, random_state=42)\n",
    "    train_err = []\n",
    "    val_err = []\n",
    "    for train_index, val_index in kf.split(x):\n",
    "        x_train_fold, x_val_fold = x[train_index], x[val_index]\n",
    "        y_train_fold, y_val_fold = y[train_index], y[val_index]\n",
    "        y_train_pred_fold = kernel_regression(x_train_fold, y_train_fold, x_train_fold, kernel, **kwargs)\n",
    "        train_err.append(mean_squared_error(y_train_pred_fold, y_train_fold))\n",
    "        y_val_pred_fold = kernel_regression(x_train_fold, y_train_fold, x_val_fold, kernel, **kwargs)\n",
    "        val_err.append(mean_squared_error(y_val_pred_fold, y_val_fold))\n",
    "    return np.mean(train_err), np.mean(val_err)"
   ]
  },
  {
   "cell_type": "code",
   "execution_count": 86,
   "metadata": {},
   "outputs": [
    {
     "ename": "ValueError",
     "evalue": "Found input variables with inconsistent numbers of samples: [12691, 7106]",
     "output_type": "error",
     "traceback": [
      "\u001b[0;31m---------------------------------------------------------------------------\u001b[0m",
      "\u001b[0;31mValueError\u001b[0m                                Traceback (most recent call last)",
      "Cell \u001b[0;32mIn[86], line 1\u001b[0m\n\u001b[0;32m----> 1\u001b[0m x_train, x_test, y_train, y_test \u001b[39m=\u001b[39m train_test_split(x_train_19_pca, y_train_19, test_size\u001b[39m=\u001b[39;49m\u001b[39m0.3\u001b[39;49m, random_state\u001b[39m=\u001b[39;49m\u001b[39m42\u001b[39;49m)\n",
      "File \u001b[0;32m~/.pyenv/versions/3.11.2/envs/venv-ml-3.11/lib/python3.11/site-packages/sklearn/model_selection/_split.py:2559\u001b[0m, in \u001b[0;36mtrain_test_split\u001b[0;34m(test_size, train_size, random_state, shuffle, stratify, *arrays)\u001b[0m\n\u001b[1;32m   2556\u001b[0m \u001b[39mif\u001b[39;00m n_arrays \u001b[39m==\u001b[39m \u001b[39m0\u001b[39m:\n\u001b[1;32m   2557\u001b[0m     \u001b[39mraise\u001b[39;00m \u001b[39mValueError\u001b[39;00m(\u001b[39m\"\u001b[39m\u001b[39mAt least one array required as input\u001b[39m\u001b[39m\"\u001b[39m)\n\u001b[0;32m-> 2559\u001b[0m arrays \u001b[39m=\u001b[39m indexable(\u001b[39m*\u001b[39;49marrays)\n\u001b[1;32m   2561\u001b[0m n_samples \u001b[39m=\u001b[39m _num_samples(arrays[\u001b[39m0\u001b[39m])\n\u001b[1;32m   2562\u001b[0m n_train, n_test \u001b[39m=\u001b[39m _validate_shuffle_split(\n\u001b[1;32m   2563\u001b[0m     n_samples, test_size, train_size, default_test_size\u001b[39m=\u001b[39m\u001b[39m0.25\u001b[39m\n\u001b[1;32m   2564\u001b[0m )\n",
      "File \u001b[0;32m~/.pyenv/versions/3.11.2/envs/venv-ml-3.11/lib/python3.11/site-packages/sklearn/utils/validation.py:443\u001b[0m, in \u001b[0;36mindexable\u001b[0;34m(*iterables)\u001b[0m\n\u001b[1;32m    424\u001b[0m \u001b[39m\u001b[39m\u001b[39m\"\"\"Make arrays indexable for cross-validation.\u001b[39;00m\n\u001b[1;32m    425\u001b[0m \n\u001b[1;32m    426\u001b[0m \u001b[39mChecks consistent length, passes through None, and ensures that everything\u001b[39;00m\n\u001b[0;32m   (...)\u001b[0m\n\u001b[1;32m    439\u001b[0m \u001b[39m    sparse matrix, or dataframe) or `None`.\u001b[39;00m\n\u001b[1;32m    440\u001b[0m \u001b[39m\"\"\"\u001b[39;00m\n\u001b[1;32m    442\u001b[0m result \u001b[39m=\u001b[39m [_make_indexable(X) \u001b[39mfor\u001b[39;00m X \u001b[39min\u001b[39;00m iterables]\n\u001b[0;32m--> 443\u001b[0m check_consistent_length(\u001b[39m*\u001b[39;49mresult)\n\u001b[1;32m    444\u001b[0m \u001b[39mreturn\u001b[39;00m result\n",
      "File \u001b[0;32m~/.pyenv/versions/3.11.2/envs/venv-ml-3.11/lib/python3.11/site-packages/sklearn/utils/validation.py:397\u001b[0m, in \u001b[0;36mcheck_consistent_length\u001b[0;34m(*arrays)\u001b[0m\n\u001b[1;32m    395\u001b[0m uniques \u001b[39m=\u001b[39m np\u001b[39m.\u001b[39munique(lengths)\n\u001b[1;32m    396\u001b[0m \u001b[39mif\u001b[39;00m \u001b[39mlen\u001b[39m(uniques) \u001b[39m>\u001b[39m \u001b[39m1\u001b[39m:\n\u001b[0;32m--> 397\u001b[0m     \u001b[39mraise\u001b[39;00m \u001b[39mValueError\u001b[39;00m(\n\u001b[1;32m    398\u001b[0m         \u001b[39m\"\u001b[39m\u001b[39mFound input variables with inconsistent numbers of samples: \u001b[39m\u001b[39m%r\u001b[39;00m\u001b[39m\"\u001b[39m\n\u001b[1;32m    399\u001b[0m         \u001b[39m%\u001b[39m [\u001b[39mint\u001b[39m(l) \u001b[39mfor\u001b[39;00m l \u001b[39min\u001b[39;00m lengths]\n\u001b[1;32m    400\u001b[0m     )\n",
      "\u001b[0;31mValueError\u001b[0m: Found input variables with inconsistent numbers of samples: [12691, 7106]"
     ]
    }
   ],
   "source": [
    "x_train, x_test, y_train, y_test = train_test_split(x_train_19_pca, y_train_19, test_size=0.3, random_state=42)"
   ]
  },
  {
   "cell_type": "code",
   "execution_count": 70,
   "metadata": {},
   "outputs": [],
   "source": [
    "# # Train the classifiers\n",
    "# kernels = ['RBF', 'Polynomial', 'Linear']\n",
    "# kernel_params = [\n",
    "#     {'sigma': 1.0},\n",
    "#     {'p': 2},\n",
    "#     {}\n",
    "# ]\n",
    "# train_err = []\n",
    "# test_err = []\n",
    "# for kernel, kernel_param in zip(kernels, kernel_params):\n",
    "#     print(f'Training {kernel} kernel')"
   ]
  },
  {
   "cell_type": "code",
   "execution_count": 71,
   "metadata": {},
   "outputs": [],
   "source": [
    "# from numpy.linalg import inv\n",
    "# from sklearn.metrics.pairwise import rbf_kernel, polynomial_kernel, linear_kernel\n",
    "\n",
    "# class KernelRegression:\n",
    "#     def __init__(self, kernel='rbf', degree=2, gamma=0.1, C=1, nugget=1e-6):\n",
    "#         self.kernel = kernel\n",
    "#         self.degree = degree\n",
    "#         self.gamma = gamma\n",
    "#         self.C = C\n",
    "#         self.nugget = nugget\n",
    "\n",
    "#     def fit(self, X, y):\n",
    "#         self.x_train = X\n",
    "#         self.y_train = y\n",
    "\n",
    "#     def predict(self, X):\n",
    "#         K = self._get_kernel(self.x_train, X)\n",
    "#         y_pred = K.T @ inv(K @ K.T + self.nugget*np.eye(K.shape[0])) @ self.y_train\n",
    "#         return y_pred\n",
    "\n",
    "#     def _get_kernel(self, X1, X2):\n",
    "#         if self.kernel == 'rbf':\n",
    "#             return rbf_kernel(X1, X2, gamma=self.gamma)\n",
    "#         elif self.kernel == 'poly':\n",
    "#             return polynomial_kernel(X1, X2, degree=self.degree, gamma=self.gamma, coef0=1)\n",
    "#         elif self.kernel == 'linear':\n",
    "#             return linear_kernel(X1, X2)"
   ]
  },
  {
   "cell_type": "code",
   "execution_count": 78,
   "metadata": {},
   "outputs": [],
   "source": [
    "# Split into training and test sets\n",
    "x_train, x_test, y_train, y_test = train_test_split(x_train_19_pca, y_train_19, test_size=0.3, random_state=42)"
   ]
  },
  {
   "cell_type": "code",
   "execution_count": 82,
   "metadata": {},
   "outputs": [
    {
     "name": "stdout",
     "output_type": "stream",
     "text": [
      "RBF Kernel Regression:\n",
      "Training accuracy: 1.000\n",
      "Test accuracy: 0.000\n",
      "\n",
      "Polynomial Kernel Regression:\n",
      "Training accuracy: 0.000\n",
      "Test accuracy: 0.000\n",
      "\n",
      "Linear Kernel Regression:\n",
      "Training accuracy: 0.000\n",
      "Test accuracy: 0.000\n",
      "\n"
     ]
    }
   ],
   "source": [
    "#import accuracy_score from sklearn.metrics\n",
    "from sklearn.metrics import accuracy_score\n",
    "\n",
    "# Train and test RBF kernel regression\n",
    "rbf_regressor = KernelRegression(kernel='rbf', gamma=1.0)\n",
    "rbf_regressor.fit(x_train, y_train)\n",
    "y_train_pred = rbf_regressor.predict(x_train)\n",
    "y_test_pred = rbf_regressor.predict(x_test)\n",
    "train_acc = accuracy_score(y_train, np.round(y_train_pred))\n",
    "test_acc = accuracy_score(y_test, np.round(y_test_pred))\n",
    "print('RBF Kernel Regression:')\n",
    "print(f'Training accuracy: {train_acc:.3f}')\n",
    "print(f'Test accuracy: {test_acc:.3f}\\n')\n",
    "\n",
    "# Train and test polynomial kernel regression\n",
    "poly_regressor = KernelRegression(kernel='poly', degree=2, gamma=0.1, C=1)\n",
    "poly_regressor.fit(x_train, y_train)\n",
    "y_train_pred = poly_regressor.predict(x_train)\n",
    "y_test_pred = poly_regressor.predict(x_test)\n",
    "train_acc = accuracy_score(y_train, np.round(y_train_pred))\n",
    "test_acc = accuracy_score(y_test, np.round(y_test_pred))\n",
    "print('Polynomial Kernel Regression:')\n",
    "print(f'Training accuracy: {train_acc:.3f}')\n",
    "print(f'Test accuracy: {test_acc:.3f}\\n')\n",
    "\n",
    "# Train and test linear kernel regression\n",
    "linear_regressor = KernelRegression(kernel='linear')\n",
    "linear_regressor.fit(x_train, y_train)\n",
    "y_train_pred = linear_regressor.predict(x_train)\n",
    "y_test_pred = linear_regressor.predict(x_test)\n",
    "train_acc = accuracy_score(y_train, np.round(y_train_pred))\n",
    "test_acc = accuracy_score(y_test, np.round(y_test_pred))\n",
    "print('Linear Kernel Regression:')\n",
    "print(f'Training accuracy: {train_acc:.3f}')\n",
    "print(f'Test accuracy: {test_acc:.3f}\\n')"
   ]
  },
  {
   "cell_type": "code",
   "execution_count": 85,
   "metadata": {},
   "outputs": [
    {
     "ename": "KeyboardInterrupt",
     "evalue": "",
     "output_type": "error",
     "traceback": [
      "\u001b[0;31m---------------------------------------------------------------------------\u001b[0m",
      "\u001b[0;31mKeyboardInterrupt\u001b[0m                         Traceback (most recent call last)",
      "Cell \u001b[0;32mIn[85], line 23\u001b[0m\n\u001b[1;32m     21\u001b[0m     sigmas \u001b[39m=\u001b[39m [\u001b[39mNone\u001b[39;00m]\n\u001b[1;32m     22\u001b[0m \u001b[39mfor\u001b[39;00m sigma \u001b[39min\u001b[39;00m sigmas:\n\u001b[0;32m---> 23\u001b[0m     train_err, val_err \u001b[39m=\u001b[39m cross_val(x_train_19, y_train_19, kernel, sigma\u001b[39m=\u001b[39;49msigma)\n\u001b[1;32m     24\u001b[0m     \u001b[39mif\u001b[39;00m val_err \u001b[39m<\u001b[39m best_val_err:\n\u001b[1;32m     25\u001b[0m         best_kernel \u001b[39m=\u001b[39m kernel\n",
      "Cell \u001b[0;32mIn[84], line 29\u001b[0m, in \u001b[0;36mcross_val\u001b[0;34m(x, y, kernel, k_folds, **kwargs)\u001b[0m\n\u001b[1;32m     27\u001b[0m     y_train_pred_fold \u001b[39m=\u001b[39m kernel_regression(x_train_fold, y_train_fold, x_train_fold, kernel, \u001b[39m*\u001b[39m\u001b[39m*\u001b[39mkwargs)\n\u001b[1;32m     28\u001b[0m     train_err\u001b[39m.\u001b[39mappend(mean_squared_error(y_train_pred_fold, y_train_fold))\n\u001b[0;32m---> 29\u001b[0m     y_val_pred_fold \u001b[39m=\u001b[39m kernel_regression(x_train_fold, y_train_fold, x_val_fold, kernel, \u001b[39m*\u001b[39;49m\u001b[39m*\u001b[39;49mkwargs)\n\u001b[1;32m     30\u001b[0m     val_err\u001b[39m.\u001b[39mappend(mean_squared_error(y_val_pred_fold, y_val_fold))\n\u001b[1;32m     31\u001b[0m \u001b[39mreturn\u001b[39;00m np\u001b[39m.\u001b[39mmean(train_err), np\u001b[39m.\u001b[39mmean(val_err)\n",
      "Cell \u001b[0;32mIn[84], line 15\u001b[0m, in \u001b[0;36mkernel_regression\u001b[0;34m(x_train, y_train, x_test, kernel, **kwargs)\u001b[0m\n\u001b[1;32m     13\u001b[0m \u001b[39mdef\u001b[39;00m \u001b[39mkernel_regression\u001b[39m(x_train, y_train, x_test, kernel, \u001b[39m*\u001b[39m\u001b[39m*\u001b[39mkwargs):\n\u001b[1;32m     14\u001b[0m     K \u001b[39m=\u001b[39m kernel(x_train, x_train, \u001b[39m*\u001b[39m\u001b[39m*\u001b[39mkwargs)\n\u001b[0;32m---> 15\u001b[0m     alpha \u001b[39m=\u001b[39m np\u001b[39m.\u001b[39mdot(np\u001b[39m.\u001b[39;49mlinalg\u001b[39m.\u001b[39;49mpinv(K), y_train)\n\u001b[1;32m     16\u001b[0m     y_pred \u001b[39m=\u001b[39m np\u001b[39m.\u001b[39mdot(kernel(x_test, x_train, \u001b[39m*\u001b[39m\u001b[39m*\u001b[39mkwargs), alpha)\n\u001b[1;32m     17\u001b[0m     \u001b[39mreturn\u001b[39;00m y_pred\n",
      "File \u001b[0;32m<__array_function__ internals>:200\u001b[0m, in \u001b[0;36mpinv\u001b[0;34m(*args, **kwargs)\u001b[0m\n",
      "File \u001b[0;32m~/.pyenv/versions/3.11.2/envs/venv-ml-3.11/lib/python3.11/site-packages/numpy/linalg/linalg.py:1983\u001b[0m, in \u001b[0;36mpinv\u001b[0;34m(a, rcond, hermitian)\u001b[0m\n\u001b[1;32m   1981\u001b[0m     \u001b[39mreturn\u001b[39;00m wrap(res)\n\u001b[1;32m   1982\u001b[0m a \u001b[39m=\u001b[39m a\u001b[39m.\u001b[39mconjugate()\n\u001b[0;32m-> 1983\u001b[0m u, s, vt \u001b[39m=\u001b[39m svd(a, full_matrices\u001b[39m=\u001b[39;49m\u001b[39mFalse\u001b[39;49;00m, hermitian\u001b[39m=\u001b[39;49mhermitian)\n\u001b[1;32m   1985\u001b[0m \u001b[39m# discard small singular values\u001b[39;00m\n\u001b[1;32m   1986\u001b[0m cutoff \u001b[39m=\u001b[39m rcond[\u001b[39m.\u001b[39m\u001b[39m.\u001b[39m\u001b[39m.\u001b[39m, newaxis] \u001b[39m*\u001b[39m amax(s, axis\u001b[39m=\u001b[39m\u001b[39m-\u001b[39m\u001b[39m1\u001b[39m, keepdims\u001b[39m=\u001b[39m\u001b[39mTrue\u001b[39;00m)\n",
      "File \u001b[0;32m<__array_function__ internals>:200\u001b[0m, in \u001b[0;36msvd\u001b[0;34m(*args, **kwargs)\u001b[0m\n",
      "File \u001b[0;32m~/.pyenv/versions/3.11.2/envs/venv-ml-3.11/lib/python3.11/site-packages/numpy/linalg/linalg.py:1642\u001b[0m, in \u001b[0;36msvd\u001b[0;34m(a, full_matrices, compute_uv, hermitian)\u001b[0m\n\u001b[1;32m   1639\u001b[0m         gufunc \u001b[39m=\u001b[39m _umath_linalg\u001b[39m.\u001b[39msvd_n_s\n\u001b[1;32m   1641\u001b[0m signature \u001b[39m=\u001b[39m \u001b[39m'\u001b[39m\u001b[39mD->DdD\u001b[39m\u001b[39m'\u001b[39m \u001b[39mif\u001b[39;00m isComplexType(t) \u001b[39melse\u001b[39;00m \u001b[39m'\u001b[39m\u001b[39md->ddd\u001b[39m\u001b[39m'\u001b[39m\n\u001b[0;32m-> 1642\u001b[0m u, s, vh \u001b[39m=\u001b[39m gufunc(a, signature\u001b[39m=\u001b[39;49msignature, extobj\u001b[39m=\u001b[39;49mextobj)\n\u001b[1;32m   1643\u001b[0m u \u001b[39m=\u001b[39m u\u001b[39m.\u001b[39mastype(result_t, copy\u001b[39m=\u001b[39m\u001b[39mFalse\u001b[39;00m)\n\u001b[1;32m   1644\u001b[0m s \u001b[39m=\u001b[39m s\u001b[39m.\u001b[39mastype(_realType(result_t), copy\u001b[39m=\u001b[39m\u001b[39mFalse\u001b[39;00m)\n",
      "\u001b[0;31mKeyboardInterrupt\u001b[0m: "
     ]
    }
   ],
   "source": [
    "# Extract the digits 1 and 9 from the training set\n",
    "idx_1 = np.where(y_train == 1)[0]\n",
    "idx_9 = np.where(y_train == 9)[0]\n",
    "idx = np.concatenate([idx_1, idx_9])\n",
    "x_train_19 = x_train_pca[idx, :]\n",
    "y_train_19 = y_train[idx]\n",
    "y_train_19[y_train_19 == 1] = -1  # label 1 as -1\n",
    "y_train_19[y_train_19 == 9] = 1  # label 9 as 1\n",
    "\n",
    "# Split the data into training and test sets\n",
    "x_train_19, x_test_19, y_train_19, y_test_19 = train_test_split(x_train_19, y_train_19, test_size=0.2, random_state=42)\n",
    "\n",
    "# Cross-validate to tune the hyperparameters\n",
    "best_kernel = None\n",
    "best_sigma = None\n",
    "best_val_err = float('inf')\n",
    "for kernel in [rbf_kernel, polynomial_kernel, linear_kernel]:\n",
    "    if kernel == rbf_kernel:\n",
    "        sigmas = np.logspace(-3, 3, 7)\n",
    "    else:\n",
    "        sigmas = [None]\n",
    "    for sigma in sigmas:\n",
    "        train_err, val_err = cross_val(x_train_19, y_train_19, kernel, sigma=sigma)\n",
    "        if val_err < best_val_err:\n",
    "            best_kernel = kernel\n",
    "            best_sigma = sigma\n",
    "            best_val_err = val_err\n",
    "\n",
    "print('Best kernel:', best_kernel.__name__)\n",
    "print('Best sigma:', best_sigma)\n",
    "print('Best validation error:', best_val_err)\n",
    "\n",
    "# Train the kernel regression model with the best hyperparameters\n",
    "alpha = np.dot(np.linalg.pinv(best_kernel(x_train_19, x_train_19, sigma=best_sigma)), y_train_19)\n",
    "y_train_pred = np.dot(best_kernel(x_train_19, x_train_19, sigma=best_sigma), alpha)\n",
    "y_test_pred = np.dot(best_kernel(x_test_19, x_train_19, sigma=best_sigma), alpha)\n",
    "\n",
    "# Evaluate the model\n",
    "y_train_pred[y_train_pred >= 0] = 1\n",
    "y_train_pred[y_train_pred < 0] = -1\n",
    "y_test_pred[y_test_pred >= 0] = 1\n",
    "y_test_pred[y_test_pred < 0] = -1\n",
    "\n",
    "train_acc = accuracy_score(y_train_19, y_train_pred)\n",
    "test_acc = accuracy_score(y_test_19, y_test_pred)\n",
    "\n",
    "print('Training accuracy:', train_acc)\n",
    "print('Test accuracy:', test_acc)"
   ]
  },
  {
   "cell_type": "code",
   "execution_count": null,
   "metadata": {},
   "outputs": [],
   "source": [
    "def polynomial_kernel(X, Y, c, p):\n",
    "    \"\"\"\n",
    "        Compute the polynomial kernel between two matrices X and Y::\n",
    "            K(x, y) = (<x, y> + c)^p\n",
    "        for each pair of rows x in X and y in Y.\n",
    "\n",
    "        Args:\n",
    "            X - (n, d) NumPy array (n datapoints each with d features)\n",
    "            Y - (m, d) NumPy array (m datapoints each with d features)\n",
    "            c - a coefficient to trade off high-order and low-order terms (scalar)\n",
    "            p - the degree of the polynomial kernel\n",
    "\n",
    "        Returns:\n",
    "            kernel_matrix - (n, m) Numpy array containing the kernel matrix\n",
    "    \"\"\"\n",
    "#     return (X @ Y.T + c).astype(np.float32) ** p\n",
    "    return (X @ Y.T + c) ** p\n",
    "\n",
    "def rbf_kernel(X, Y, gamma):\n",
    "    \"\"\"\n",
    "        Compute the Gaussian RBF kernel between two matrices X and Y::\n",
    "            K(x, y) = exp(-gamma ||x-y||^2)\n",
    "        for each pair of rows x in X and y in Y.\n",
    "\n",
    "        Args:\n",
    "            X - (n, d) NumPy array (n datapoints each with d features)\n",
    "            Y - (m, d) NumPy array (m datapoints each with d features)\n",
    "            gamma - the gamma parameter of gaussian function (scalar)\n",
    "\n",
    "        Returns:\n",
    "            kernel_matrix - (n, m) Numpy array containing the kernel matrix\n",
    "    \"\"\"\n",
    "    return np.exp(-gamma * ((X ** 2).sum(axis=1)[None].T + (Y ** 2).sum(axis=1) - 2 * X @ Y.T))"
   ]
  },
  {
   "cell_type": "code",
   "execution_count": null,
   "metadata": {},
   "outputs": [],
   "source": [
    "kernel = lambda X, Y: polynomial_kernel(X, Y, 1, 3)\n",
    "# # kernel = lambda X, Y: X@Y.T\n",
    "alpha = 1\n",
    "temp_parameter = 10\n",
    "lambda_factor = 1e-4"
   ]
  }
 ],
 "metadata": {
  "kernelspec": {
   "display_name": "venv-ml-3.11",
   "language": "python",
   "name": "python3"
  },
  "language_info": {
   "codemirror_mode": {
    "name": "ipython",
    "version": 3
   },
   "file_extension": ".py",
   "mimetype": "text/x-python",
   "name": "python",
   "nbconvert_exporter": "python",
   "pygments_lexer": "ipython3",
   "version": "3.11.2"
  },
  "orig_nbformat": 4
 },
 "nbformat": 4,
 "nbformat_minor": 2
}
